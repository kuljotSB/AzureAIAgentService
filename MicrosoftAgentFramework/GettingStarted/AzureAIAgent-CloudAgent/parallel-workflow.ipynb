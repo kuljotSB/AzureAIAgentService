{
 "cells": [
  {
   "cell_type": "markdown",
   "id": "a06cb35f",
   "metadata": {},
   "source": [
    "### Parallel Workflow with Microsoft Agent Framework and Azure AI Foundry"
   ]
  },
  {
   "cell_type": "code",
   "execution_count": null,
   "id": "e96d38d4",
   "metadata": {},
   "outputs": [],
   "source": [
    "%pip install agent-framework==1.0.0b251001 python-dotenv azure-ai-projects==1.1.0b4 agent-framework[viz]"
   ]
  },
  {
   "cell_type": "markdown",
   "id": "e154cc36",
   "metadata": {},
   "source": [
    "### Setting Up the Environment "
   ]
  },
  {
   "cell_type": "code",
   "execution_count": null,
   "id": "917565f5",
   "metadata": {},
   "outputs": [],
   "source": [
    "import os\n",
    "from dotenv import load_dotenv\n",
    "from azure.core.credentials import AzureKeyCredential\n",
    "from agent_framework import Executor, WorkflowBuilder, WorkflowContext, WorkflowOutputEvent, handler\n",
    "from agent_framework import WorkflowBuilder, WorkflowViz\n",
    "\n",
    "load_dotenv()\n",
    "project_endpoint = os.getenv(\"AI_FOUNDRY_PROJECT_ENDPOINT\")\n",
    "model = os.getenv(\"AI_FOUNDRY_DEPLOYMENT_NAME\")\n",
    "\n",
    "print(\"Project Endpoint: \", project_endpoint)\n",
    "print(\"Model: \", model)"
   ]
  },
  {
   "cell_type": "markdown",
   "id": "9111c656",
   "metadata": {},
   "source": [
    "### Defining a Function to Create a Chat Agent"
   ]
  },
  {
   "cell_type": "code",
   "execution_count": null,
   "id": "fb50d3f2",
   "metadata": {},
   "outputs": [],
   "source": [
    "from agent_framework import ChatAgent\n",
    "from agent_framework.azure import AzureAIAgentClient\n",
    "from azure.ai.projects.aio import AIProjectClient\n",
    "from azure.identity.aio import AzureCliCredential\n",
    "\n",
    "# Cell 2: Define async workflow\n",
    "async def create_agent(agent_name: str,\n",
    "                       agent_instructions: str) -> ChatAgent:\n",
    "    \n",
    "    # Create async Azure credential\n",
    "    credential = AzureCliCredential()\n",
    "    \n",
    "    # Initialize the Azure AI Agent Client\n",
    "    chat_client = AzureAIAgentClient(async_credential=credential,\n",
    "                                     project_endpoint=project_endpoint,\n",
    "                                     model_deployment_name=model)\n",
    "\n",
    "    try:\n",
    "\n",
    "        # Create the Multi-Tool Agent\n",
    "        agent = chat_client.create_agent(\n",
    "            name=agent_name,\n",
    "            instructions=agent_instructions,\n",
    "        )\n",
    "\n",
    "        print(\"{} Agent created successfully!\".format(agent_name))\n",
    "        return agent\n",
    "\n",
    "    finally:\n",
    "        # Clean up async clients\n",
    "        await chat_client.close()\n",
    "        await credential.close()\n"
   ]
  },
  {
   "cell_type": "markdown",
   "id": "e5c43ced",
   "metadata": {},
   "source": [
    "### Creating the Location Picker Agent"
   ]
  },
  {
   "cell_type": "code",
   "execution_count": null,
   "id": "bb374e6c",
   "metadata": {},
   "outputs": [],
   "source": [
    "location_picker_agent = await create_agent(\n",
    "    agent_name = \"Location-Picker-Agent\",\n",
    "    agent_instructions = \"\"\"You are a helpful assistant that helps users pick a location for their vacation.\"\"\"\n",
    ")"
   ]
  },
  {
   "cell_type": "markdown",
   "id": "261ee0ae",
   "metadata": {},
   "source": [
    "### Creating the Destination Recommender Agent"
   ]
  },
  {
   "cell_type": "code",
   "execution_count": null,
   "id": "3349bff0",
   "metadata": {},
   "outputs": [],
   "source": [
    "destination_recommender_agent = await create_agent(\n",
    "    agent_name = \"Destination-Recommender-Agent\",\n",
    "    agent_instructions = \"\"\"You are a travel expert that provides personalized vacation recommendations based on user preferences and locations. \"\"\"\n",
    ")"
   ]
  },
  {
   "cell_type": "markdown",
   "id": "34f0f79c",
   "metadata": {},
   "source": [
    "### Creating the Weather Agent"
   ]
  },
  {
   "cell_type": "code",
   "execution_count": null,
   "id": "b121f685",
   "metadata": {},
   "outputs": [],
   "source": [
    "weather_agent = await create_agent(\n",
    "    agent_name = \"Weather-Agent\",\n",
    "    agent_instructions = \"\"\"You are a weather expert that provides accurate and up-to-date weather information for various locations selected\"\"\"\n",
    ")"
   ]
  },
  {
   "cell_type": "markdown",
   "id": "b6fb4f95",
   "metadata": {},
   "source": [
    "### Creating the Cuisine Suggestion Agent"
   ]
  },
  {
   "cell_type": "code",
   "execution_count": null,
   "id": "09b675e0",
   "metadata": {},
   "outputs": [],
   "source": [
    "cuisine_suggestion_agent = await create_agent(\n",
    "    agent_name = \"Cuisine-Suggestion-Agent\",\n",
    "    agent_instructions = \"\"\"You are a culinary expert that suggests popular local cuisines and dining options based on the selected vacation destinations.\"\"\"\n",
    ")"
   ]
  },
  {
   "cell_type": "markdown",
   "id": "bc65d756",
   "metadata": {},
   "source": [
    "### Creating the Itinerary Planner Agent"
   ]
  },
  {
   "cell_type": "code",
   "execution_count": null,
   "id": "6c1e35ba",
   "metadata": {},
   "outputs": [],
   "source": [
    "itinerary_planner_agent = await create_agent(\n",
    "    agent_name = \"Itinerary-Planner-Agent\",\n",
    "    agent_instructions = \"\"\"You are an itinerary planning expert that creates detailed travel itineraries based on user preferences, selected destinations, weather conditions, and local cuisine options.\"\"\"\n",
    ")"
   ]
  },
  {
   "cell_type": "markdown",
   "id": "3e60df1d",
   "metadata": {},
   "source": [
    "### Creating the Location Selector Agent Executor"
   ]
  },
  {
   "cell_type": "code",
   "execution_count": null,
   "id": "86cd6711",
   "metadata": {},
   "outputs": [],
   "source": [
    "class LocationSelectorExecutor(Executor):\n",
    "\n",
    "    @handler\n",
    "    async def handle(self, user_query: str, ctx: WorkflowContext[str]) -> None:\n",
    "        response = await location_picker_agent.run(user_query)\n",
    "\n",
    "        await ctx.send_message(str(response))"
   ]
  },
  {
   "cell_type": "markdown",
   "id": "ca61fa48",
   "metadata": {},
   "source": [
    "### Creating the Destination Recommender Agent Executor"
   ]
  },
  {
   "cell_type": "code",
   "execution_count": null,
   "id": "cfc7e6e1",
   "metadata": {},
   "outputs": [],
   "source": [
    "class DestinationRecommenderExecutor(Executor):\n",
    "\n",
    "    @handler\n",
    "    async def handle(self, location: str, ctx: WorkflowContext[str]) -> None:\n",
    "        response = await destination_recommender_agent.run(location)\n",
    "\n",
    "        await ctx.send_message(str(response))"
   ]
  },
  {
   "cell_type": "markdown",
   "id": "58034e4a",
   "metadata": {},
   "source": [
    "### Creating the Weather Agent Executor"
   ]
  },
  {
   "cell_type": "code",
   "execution_count": null,
   "id": "cc973e1b",
   "metadata": {},
   "outputs": [],
   "source": [
    "class WeatherExecutor(Executor):\n",
    "\n",
    "    @handler\n",
    "    async def handle(self, location: str, ctx: WorkflowContext[str]) -> None:\n",
    "        response = await weather_agent.run(location)\n",
    "\n",
    "        await ctx.send_message(str(response))"
   ]
  },
  {
   "cell_type": "markdown",
   "id": "d87acddc",
   "metadata": {},
   "source": [
    "### Creating the Cuisine Suggestion Agent Executor"
   ]
  },
  {
   "cell_type": "code",
   "execution_count": null,
   "id": "a49a942b",
   "metadata": {},
   "outputs": [],
   "source": [
    "class CuisineSuggestionExecutor(Executor):\n",
    "\n",
    "    @handler\n",
    "    async def handle(self, location: str, ctx: WorkflowContext[str]) -> None:\n",
    "        response = await cuisine_suggestion_agent.run(location)\n",
    "\n",
    "        await ctx.send_message(str(response))"
   ]
  },
  {
   "cell_type": "markdown",
   "id": "aa9907f0",
   "metadata": {},
   "source": [
    "### Creating the Itinerary Planner Agent Executor"
   ]
  },
  {
   "cell_type": "code",
   "execution_count": null,
   "id": "aea2700d",
   "metadata": {},
   "outputs": [],
   "source": [
    "class ItineraryPlannerExecutor(Executor):\n",
    "\n",
    "    @handler\n",
    "    async def handle(self, results: list[str], ctx: WorkflowContext[str]) -> None:\n",
    "        response = await itinerary_planner_agent.run(results)\n",
    "\n",
    "        await ctx.yield_output(str(response))"
   ]
  },
  {
   "cell_type": "markdown",
   "id": "b57fd6e5",
   "metadata": {},
   "source": [
    "### Building the Parallel Workflow"
   ]
  },
  {
   "cell_type": "code",
   "execution_count": null,
   "id": "abcb96f4",
   "metadata": {},
   "outputs": [],
   "source": [
    "# Create the executor instances / objects\n",
    "location_selector_executor = LocationSelectorExecutor(id=\"LocationSelector\")\n",
    "destination_recommender_executor = DestinationRecommenderExecutor(id=\"DestinationRecommender\")\n",
    "weather_executor = WeatherExecutor(id=\"Weather\")\n",
    "cuisine_suggestion_executor = CuisineSuggestionExecutor(id=\"CuisineSuggestion\")\n",
    "itinerary_planner_executor = ItineraryPlannerExecutor(id=\"ItineraryPlanner\")\n",
    "\n",
    "# Build the workflow\n",
    "workflow = (\n",
    "    WorkflowBuilder()\n",
    "    .set_start_executor(location_selector_executor)\n",
    "    .add_fan_out_edges(location_selector_executor, [destination_recommender_executor, weather_executor, cuisine_suggestion_executor])\n",
    "    .add_fan_in_edges([destination_recommender_executor, weather_executor, cuisine_suggestion_executor], itinerary_planner_executor)\n",
    "    .build()\n",
    ")\n",
    "\n",
    "viz = WorkflowViz(workflow)"
   ]
  },
  {
   "cell_type": "markdown",
   "id": "2328f40d",
   "metadata": {},
   "source": [
    "### Generating Mermaid Diagram for Visualization"
   ]
  },
  {
   "cell_type": "code",
   "execution_count": null,
   "id": "4b3597a7",
   "metadata": {},
   "outputs": [],
   "source": [
    "mermaid_content = viz.to_mermaid()\n",
    "\n",
    "# printing mermaid content as markdown\n",
    "from IPython.display import Markdown, display\n",
    "display(Markdown(f\"```mermaid\\n{mermaid_content}\\n```\"))"
   ]
  },
  {
   "cell_type": "markdown",
   "id": "068442b5",
   "metadata": {},
   "source": [
    "### Running the Workflow and Streaming Events"
   ]
  },
  {
   "cell_type": "code",
   "execution_count": null,
   "id": "d2f86e8f",
   "metadata": {},
   "outputs": [],
   "source": [
    "# Run the workflow and stream events in notebook\n",
    "async def main():\n",
    "    async for event in workflow.run_stream(\"help me plan a vacation to India with the following details: I love historical sites, prefer warm weather, and enjoy trying local foods.\"):\n",
    "        print(f\"Event: {event}\")\n",
    "        if isinstance(event, WorkflowOutputEvent):\n",
    "            print(f\"Workflow completed with result: {event.data}\")\n",
    "\n",
    "await main()\n"
   ]
  }
 ],
 "metadata": {
  "kernelspec": {
   "display_name": "Python 3",
   "language": "python",
   "name": "python3"
  },
  "language_info": {
   "codemirror_mode": {
    "name": "ipython",
    "version": 3
   },
   "file_extension": ".py",
   "mimetype": "text/x-python",
   "name": "python",
   "nbconvert_exporter": "python",
   "pygments_lexer": "ipython3",
   "version": "3.13.4"
  }
 },
 "nbformat": 4,
 "nbformat_minor": 5
}
