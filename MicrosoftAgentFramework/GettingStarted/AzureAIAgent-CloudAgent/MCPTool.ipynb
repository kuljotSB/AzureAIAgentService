{
 "cells": [
  {
   "cell_type": "markdown",
   "id": "985f3cda",
   "metadata": {},
   "source": [
    "## Hosted MCP Tool with Microsoft Agent Framework"
   ]
  },
  {
   "cell_type": "markdown",
   "id": "2f70e6a3",
   "metadata": {},
   "source": [
    "![mslearn_mcp_server](./images/mslearn_mcp_server.png)"
   ]
  },
  {
   "cell_type": "code",
   "execution_count": null,
   "id": "43056ba9",
   "metadata": {},
   "outputs": [],
   "source": [
    "%pip install agent-framework==1.0.0b251001 python-dotenv azure-ai-projects==1.1.0b4"
   ]
  },
  {
   "cell_type": "markdown",
   "id": "80e0c957",
   "metadata": {},
   "source": [
    "### Setting Up the Environment"
   ]
  },
  {
   "cell_type": "code",
   "execution_count": null,
   "id": "dc68a574",
   "metadata": {},
   "outputs": [],
   "source": [
    "import os\n",
    "from dotenv import load_dotenv\n",
    "from azure.core.credentials import AzureKeyCredential\n",
    "\n",
    "load_dotenv()\n",
    "project_endpoint = os.getenv(\"AI_FOUNDRY_PROJECT_ENDPOINT\")\n",
    "model = os.getenv(\"AI_FOUNDRY_DEPLOYMENT_NAME\")\n",
    "\n",
    "print(\"Project Endpoint: \", project_endpoint)\n",
    "print(\"Model: \", model)"
   ]
  },
  {
   "cell_type": "markdown",
   "id": "c2982242",
   "metadata": {},
   "source": [
    "### Creating our MS Learn MCP Tool Object"
   ]
  },
  {
   "cell_type": "code",
   "execution_count": null,
   "id": "0c09f306",
   "metadata": {},
   "outputs": [],
   "source": [
    "from agent_framework import HostedMCPTool\n",
    "\n",
    "ms_learn_mcp_tool = HostedMCPTool(\n",
    "    name = \"Microsoft Learn MCP Tool\",\n",
    "    url = \"https://learn.microsoft.com/api/mcp\"\n",
    ")"
   ]
  },
  {
   "cell_type": "markdown",
   "id": "8d65c9af",
   "metadata": {},
   "source": [
    "### Creating our MCP Agent"
   ]
  },
  {
   "cell_type": "code",
   "execution_count": null,
   "id": "de74495c",
   "metadata": {},
   "outputs": [],
   "source": [
    "from agent_framework import ChatAgent\n",
    "from agent_framework.azure import AzureAIAgentClient\n",
    "from azure.ai.projects.aio import AIProjectClient\n",
    "from azure.identity.aio import AzureCliCredential\n",
    "\n",
    "# Cell 2: Define async workflow\n",
    "async def create_docs_agent():\n",
    "    # Create async Azure credential\n",
    "    credential = AzureCliCredential()\n",
    "    \n",
    "    # Initialize the Azure AI Agent Client\n",
    "    chat_client = AzureAIAgentClient(async_credential=credential,\n",
    "                                     project_endpoint=project_endpoint,\n",
    "                                     model_deployment_name=model)\n",
    "\n",
    "    try:\n",
    "\n",
    "        # Create the Docs Agent\n",
    "        agent = chat_client.create_agent(\n",
    "            name=\"DocsAgent\",\n",
    "            instructions=\"You are a helpful assistant that can help with Microsoft documentation questions.\",\n",
    "            tools=ms_learn_mcp_tool\n",
    "        )\n",
    "\n",
    "        print(\"✅ Agent created successfully!\")\n",
    "        return agent\n",
    "\n",
    "    finally:\n",
    "        # Clean up async clients\n",
    "        await chat_client.close()\n",
    "        await credential.close()\n"
   ]
  },
  {
   "cell_type": "code",
   "execution_count": null,
   "id": "7a1df152",
   "metadata": {},
   "outputs": [],
   "source": [
    "# Cell 3: Run the async function\n",
    "agent = await create_docs_agent()\n"
   ]
  },
  {
   "cell_type": "markdown",
   "id": "45fa2580",
   "metadata": {},
   "source": [
    "### Creating an Async Function to Handle User Approvals"
   ]
  },
  {
   "cell_type": "code",
   "execution_count": null,
   "id": "7e6f8b2a",
   "metadata": {},
   "outputs": [],
   "source": [
    "from agent_framework import ChatMessage\n",
    "\n",
    "async def handle_approvals_with_thread(query: str, agent, thread):\n",
    "    result = await agent.run(query, thread=thread, store=True)\n",
    "    while len(result.user_input_requests) > 0:\n",
    "        new_input = []\n",
    "        for user_input_needed in result.user_input_requests:\n",
    "            print(\n",
    "                f\"\\n⚙️ Function call requested: {user_input_needed.function_call.name}\"\n",
    "                f\"\\nArguments: {user_input_needed.function_call.arguments}\"\n",
    "            )\n",
    "            user_approval = input(\"Approve function call? (y/n): \")\n",
    "            new_input.append(\n",
    "                ChatMessage(\n",
    "                    role=\"user\",\n",
    "                    contents=[user_input_needed.create_response(user_approval.lower() == \"y\")],\n",
    "                )\n",
    "            )\n",
    "        result = await agent.run(new_input, thread=thread, store=True)\n",
    "    return result\n"
   ]
  },
  {
   "cell_type": "code",
   "execution_count": null,
   "id": "1542eb9e",
   "metadata": {},
   "outputs": [],
   "source": [
    "thread = agent.get_new_thread()\n",
    "query = \"How to create an Azure storage account using az cli?\"\n",
    "response = await handle_approvals_with_thread(query, agent, thread)\n",
    "\n",
    "print(\"\\n🧠 Assistant:\\n\", response)\n"
   ]
  }
 ],
 "metadata": {
  "kernelspec": {
   "display_name": "Python 3",
   "language": "python",
   "name": "python3"
  },
  "language_info": {
   "codemirror_mode": {
    "name": "ipython",
    "version": 3
   },
   "file_extension": ".py",
   "mimetype": "text/x-python",
   "name": "python",
   "nbconvert_exporter": "python",
   "pygments_lexer": "ipython3",
   "version": "3.13.4"
  }
 },
 "nbformat": 4,
 "nbformat_minor": 5
}
