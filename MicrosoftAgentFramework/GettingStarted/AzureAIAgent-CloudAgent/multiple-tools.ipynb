{
 "cells": [
  {
   "cell_type": "markdown",
   "id": "2f36b0ce",
   "metadata": {},
   "source": [
    "### Multi-Tool Calling with MAF and Azure AI Agent Service"
   ]
  },
  {
   "cell_type": "markdown",
   "id": "a192cedf",
   "metadata": {},
   "source": [
    "![multi-tool-agent](./images/multi-tool-agent.png)"
   ]
  },
  {
   "cell_type": "code",
   "execution_count": null,
   "id": "239f6d8c",
   "metadata": {},
   "outputs": [],
   "source": [
    "%pip install agent-framework==1.0.0b251001 python-dotenv azure-ai-projects==1.1.0b4 jsonref==1.1.0"
   ]
  },
  {
   "cell_type": "markdown",
   "id": "436625e5",
   "metadata": {},
   "source": [
    "### Setting up the Environment"
   ]
  },
  {
   "cell_type": "code",
   "execution_count": null,
   "id": "d4ee67dd",
   "metadata": {},
   "outputs": [],
   "source": [
    "import os\n",
    "from dotenv import load_dotenv\n",
    "from azure.core.credentials import AzureKeyCredential\n",
    "\n",
    "load_dotenv()\n",
    "project_endpoint = os.getenv(\"AI_FOUNDRY_PROJECT_ENDPOINT\")\n",
    "model = os.getenv(\"AI_FOUNDRY_DEPLOYMENT_NAME\")\n",
    "\n",
    "print(\"Project Endpoint: \", project_endpoint)\n",
    "print(\"Model: \", model)"
   ]
  },
  {
   "cell_type": "markdown",
   "id": "56832ec1",
   "metadata": {},
   "source": [
    "### Loading the Code Interpreter Tool"
   ]
  },
  {
   "cell_type": "code",
   "execution_count": null,
   "id": "c18a5d68",
   "metadata": {},
   "outputs": [],
   "source": [
    "from agent_framework import AgentRunResponse, ChatResponseUpdate, HostedCodeInterpreterTool\n",
    "\n",
    "code_interpreter_tool = HostedCodeInterpreterTool()\n"
   ]
  },
  {
   "cell_type": "markdown",
   "id": "1b301198",
   "metadata": {},
   "source": [
    "### Loading the Hosted MCP Tool"
   ]
  },
  {
   "cell_type": "code",
   "execution_count": null,
   "id": "07533f98",
   "metadata": {},
   "outputs": [],
   "source": [
    "from agent_framework import HostedMCPTool\n",
    "\n",
    "ms_learn_mcp_tool = HostedMCPTool(\n",
    "    name = \"Microsoft Learn MCP Tool\",\n",
    "    url = \"https://learn.microsoft.com/api/mcp\"\n",
    ")"
   ]
  },
  {
   "cell_type": "markdown",
   "id": "7a87fa7a",
   "metadata": {},
   "source": [
    "### Creating the Agent with Multiple Tools in Azure AI Agent Service "
   ]
  },
  {
   "cell_type": "code",
   "execution_count": null,
   "id": "38a9db61",
   "metadata": {},
   "outputs": [],
   "source": [
    "from agent_framework import ChatAgent\n",
    "from agent_framework.azure import AzureAIAgentClient\n",
    "from azure.ai.projects.aio import AIProjectClient\n",
    "from azure.identity.aio import AzureCliCredential\n",
    "\n",
    "# Cell 2: Define async workflow\n",
    "async def create_multi_tool_agent():\n",
    "    # Create async Azure credential\n",
    "    credential = AzureCliCredential()\n",
    "    \n",
    "    # Initialize the Azure AI Agent Client\n",
    "    chat_client = AzureAIAgentClient(async_credential=credential,\n",
    "                                     project_endpoint=project_endpoint,\n",
    "                                     model_deployment_name=model)\n",
    "\n",
    "    try:\n",
    "\n",
    "        # Create the Multi-Tool Agent\n",
    "        agent = chat_client.create_agent(\n",
    "            name=\"multi-tool-agent\",\n",
    "            instructions=\"You are a helpful multi-tool agent.\",\n",
    "            tools=[code_interpreter_tool, ms_learn_mcp_tool]\n",
    "        )\n",
    "\n",
    "        print(\"✅ Agent created successfully!\")\n",
    "        return agent\n",
    "\n",
    "    finally:\n",
    "        # Clean up async clients\n",
    "        await chat_client.close()\n",
    "        await credential.close()\n"
   ]
  },
  {
   "cell_type": "code",
   "execution_count": null,
   "id": "612692a1",
   "metadata": {},
   "outputs": [],
   "source": [
    "# Cell 3: Run the async function\n",
    "agent = await create_multi_tool_agent()\n"
   ]
  },
  {
   "cell_type": "markdown",
   "id": "a6408b91",
   "metadata": {},
   "source": [
    "### Creating an Async Function to Handle User Approvals"
   ]
  },
  {
   "cell_type": "code",
   "execution_count": null,
   "id": "6ea92391",
   "metadata": {},
   "outputs": [],
   "source": [
    "from agent_framework import ChatMessage\n",
    "\n",
    "async def handle_approvals_with_thread(query: str, agent, thread):\n",
    "    result = await agent.run(query, thread=thread, store=True)\n",
    "    while len(result.user_input_requests) > 0:\n",
    "        new_input = []\n",
    "        for user_input_needed in result.user_input_requests:\n",
    "            new_input.append(\n",
    "                ChatMessage(\n",
    "                    role=\"user\",\n",
    "                    contents=[user_input_needed.create_response(True)],\n",
    "                )\n",
    "            )\n",
    "        result = await agent.run(new_input, thread=thread, store=True)\n",
    "    return result\n"
   ]
  },
  {
   "cell_type": "markdown",
   "id": "94c7d7c1",
   "metadata": {},
   "source": [
    "### Running Different Queries on the Agent"
   ]
  },
  {
   "cell_type": "code",
   "execution_count": null,
   "id": "95572985",
   "metadata": {},
   "outputs": [],
   "source": [
    "thread = agent.get_new_thread()\n",
    "query = \"Can you write a Python function to calculate the factorial of a number using recursion and give me the output for number 100\"\n",
    "response = await handle_approvals_with_thread(query, agent, thread)\n",
    "\n",
    "print(\"\\n🧠 Assistant:\\n\", response)\n"
   ]
  },
  {
   "cell_type": "code",
   "execution_count": null,
   "id": "5705d2c3",
   "metadata": {},
   "outputs": [],
   "source": [
    "thread = agent.get_new_thread()\n",
    "query = \"How to create an Azure storage account using az cli?\"\n",
    "response = await handle_approvals_with_thread(query, agent, thread)\n",
    "\n",
    "print(\"\\n🧠 Assistant:\\n\", response)\n"
   ]
  }
 ],
 "metadata": {
  "kernelspec": {
   "display_name": "Python 3",
   "language": "python",
   "name": "python3"
  },
  "language_info": {
   "codemirror_mode": {
    "name": "ipython",
    "version": 3
   },
   "file_extension": ".py",
   "mimetype": "text/x-python",
   "name": "python",
   "nbconvert_exporter": "python",
   "pygments_lexer": "ipython3",
   "version": "3.13.4"
  }
 },
 "nbformat": 4,
 "nbformat_minor": 5
}
