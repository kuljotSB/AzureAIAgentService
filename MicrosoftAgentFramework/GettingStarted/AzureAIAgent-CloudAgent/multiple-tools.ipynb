{
 "cells": [
  {
   "cell_type": "markdown",
   "id": "2f36b0ce",
   "metadata": {},
   "source": [
    "### Multi-Tool Calling with MAF and Azure AI Agent Service"
   ]
  },
  {
   "cell_type": "code",
   "execution_count": null,
   "id": "239f6d8c",
   "metadata": {},
   "outputs": [],
   "source": [
    "%pip install agent-framework==1.0.0b251001 python-dotenv azure-ai-projects==1.1.0b4 jsonref==1.1.0"
   ]
  },
  {
   "cell_type": "markdown",
   "id": "436625e5",
   "metadata": {},
   "source": [
    "### Setting up the Environment"
   ]
  },
  {
   "cell_type": "code",
   "execution_count": null,
   "id": "d4ee67dd",
   "metadata": {},
   "outputs": [],
   "source": [
    "import os\n",
    "from dotenv import load_dotenv\n",
    "from azure.core.credentials import AzureKeyCredential\n",
    "\n",
    "load_dotenv()\n",
    "project_endpoint = os.getenv(\"AI_FOUNDRY_PROJECT_ENDPOINT\")\n",
    "model = os.getenv(\"AI_FOUNDRY_DEPLOYMENT_NAME\")\n",
    "\n",
    "print(\"Project Endpoint: \", project_endpoint)\n",
    "print(\"Model: \", model)"
   ]
  },
  {
   "cell_type": "markdown",
   "id": "ac4affb8",
   "metadata": {},
   "source": [
    "### Loading the OpenAPI Tool"
   ]
  },
  {
   "cell_type": "code",
   "execution_count": null,
   "id": "f3c64af5",
   "metadata": {},
   "outputs": [],
   "source": [
    "from azure.ai.agents.models import OpenApiAnonymousAuthDetails, OpenApiTool\n",
    "import jsonref\n",
    "\n",
    "auth = OpenApiAnonymousAuthDetails()\n",
    "\n",
    "with open(\"./countries.json\", \"r\") as f:\n",
    "    openapi_spec = jsonref.loads(f.read())\n",
    "\n",
    "openapi_tool = OpenApiTool(\n",
    "    name=\"CountriesAPI\",\n",
    "    spec = openapi_spec,\n",
    "    description=\"Retrieve country information including population and capital city\",\n",
    "    auth = auth\n",
    ")\n"
   ]
  },
  {
   "cell_type": "markdown",
   "id": "56832ec1",
   "metadata": {},
   "source": [
    "### Loading the Code Interpreter Tool"
   ]
  },
  {
   "cell_type": "code",
   "execution_count": null,
   "id": "c18a5d68",
   "metadata": {},
   "outputs": [],
   "source": [
    "from azure.ai.agents.models import CodeInterpreterTool\n",
    "\n",
    "code_interpreter_tool = CodeInterpreterTool()\n"
   ]
  },
  {
   "cell_type": "markdown",
   "id": "8e5ca72c",
   "metadata": {},
   "source": [
    "### Combining Tools into a ToolSet"
   ]
  },
  {
   "cell_type": "code",
   "execution_count": null,
   "id": "32079318",
   "metadata": {},
   "outputs": [],
   "source": [
    "from azure.ai.agents.models import ToolSet\n",
    "\n",
    "tool_set = ToolSet()\n",
    "\n",
    "tool_set.add(openapi_tool)\n",
    "tool_set.add(code_interpreter_tool)\n"
   ]
  },
  {
   "cell_type": "markdown",
   "id": "7a87fa7a",
   "metadata": {},
   "source": [
    "### Creating the Agent with Multiple Tools in Azure AI Agent Service "
   ]
  },
  {
   "cell_type": "code",
   "execution_count": null,
   "id": "38a9db61",
   "metadata": {},
   "outputs": [],
   "source": [
    "from agent_framework import ChatAgent\n",
    "from agent_framework.azure import AzureAIAgentClient\n",
    "from azure.ai.projects.aio import AIProjectClient\n",
    "from azure.identity.aio import AzureCliCredential\n",
    "\n",
    "client  = AIProjectClient(\n",
    "    endpoint=project_endpoint,\n",
    "    credential=AzureCliCredential()\n",
    ")\n",
    "\n",
    "created_agent = await client.agents.create_agent(\n",
    "    model = model,\n",
    "    name = \"Multi-Tool Agent\",\n",
    "    instructions = (\"You are a helpful assistant that can search for country information \"\n",
    "                \"and weather data using APIs. When asked about countries, use the country \"\n",
    "                \"API to find information.\"\n",
    "                \"When asked about code execution, use the code interpreter to run the code.\"),\n",
    "    toolset = tool_set\n",
    ")\n",
    "\n",
    "print(\"Created Agent: \", created_agent.id)"
   ]
  },
  {
   "cell_type": "markdown",
   "id": "7198967a",
   "metadata": {},
   "source": [
    "### Creating a copy of the agent in Microsoft Agent Framework"
   ]
  },
  {
   "cell_type": "code",
   "execution_count": null,
   "id": "ac65c66d",
   "metadata": {},
   "outputs": [],
   "source": [
    "agent = ChatAgent(\n",
    "    chat_client = AzureAIAgentClient(project_client=client, agent_id=created_agent.id)\n",
    ")"
   ]
  },
  {
   "cell_type": "markdown",
   "id": "94c7d7c1",
   "metadata": {},
   "source": [
    "### Running Different Queries on the Agent"
   ]
  },
  {
   "cell_type": "code",
   "execution_count": null,
   "id": "a1aa5b87",
   "metadata": {},
   "outputs": [],
   "source": [
    "query = \"What is the name and population of the country that uses currency with abbreviation THB at present (use openapi tool)?\"\n",
    "response = await agent.run(query)\n",
    "print(\"Agent Response:\", response)\n"
   ]
  },
  {
   "cell_type": "code",
   "execution_count": null,
   "id": "cd72ad57",
   "metadata": {},
   "outputs": [],
   "source": [
    "query = \"Can you write a Python function to calculate the factorial of a number using recursion and give me the output for number 100\"\n",
    "response = await agent.run(query)\n",
    "print(\"Agent Response:\", response)"
   ]
  }
 ],
 "metadata": {
  "kernelspec": {
   "display_name": "Python 3",
   "language": "python",
   "name": "python3"
  },
  "language_info": {
   "codemirror_mode": {
    "name": "ipython",
    "version": 3
   },
   "file_extension": ".py",
   "mimetype": "text/x-python",
   "name": "python",
   "nbconvert_exporter": "python",
   "pygments_lexer": "ipython3",
   "version": "3.13.4"
  }
 },
 "nbformat": 4,
 "nbformat_minor": 5
}
