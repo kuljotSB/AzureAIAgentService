{
 "cells": [
  {
   "cell_type": "markdown",
   "id": "2f36b0ce",
   "metadata": {},
   "source": [
    "### Multi-Tool Calling with MAF and Azure AI Agent Service"
   ]
  },
  {
   "cell_type": "code",
   "execution_count": null,
   "id": "239f6d8c",
   "metadata": {},
   "outputs": [],
   "source": [
    "%pip install agent-framework==1.0.0b251001 python-dotenv azure-ai-projects==1.1.0b4 jsonref==1.1.0"
   ]
  },
  {
   "cell_type": "markdown",
   "id": "436625e5",
   "metadata": {},
   "source": [
    "### Setting up the Environment"
   ]
  },
  {
   "cell_type": "code",
   "execution_count": 1,
   "id": "d4ee67dd",
   "metadata": {},
   "outputs": [
    {
     "name": "stdout",
     "output_type": "stream",
     "text": [
      "Project Endpoint:  https://carbonopsdevai4434735199.services.ai.azure.com/api/projects/demo-proj\n",
      "Model:  gpt-4.1-2\n"
     ]
    }
   ],
   "source": [
    "import os\n",
    "from dotenv import load_dotenv\n",
    "from azure.core.credentials import AzureKeyCredential\n",
    "\n",
    "load_dotenv()\n",
    "project_endpoint = os.getenv(\"AI_FOUNDRY_PROJECT_ENDPOINT\")\n",
    "model = os.getenv(\"AI_FOUNDRY_DEPLOYMENT_NAME\")\n",
    "\n",
    "print(\"Project Endpoint: \", project_endpoint)\n",
    "print(\"Model: \", model)"
   ]
  },
  {
   "cell_type": "markdown",
   "id": "56832ec1",
   "metadata": {},
   "source": [
    "### Loading the Code Interpreter Tool"
   ]
  },
  {
   "cell_type": "code",
   "execution_count": 2,
   "id": "c18a5d68",
   "metadata": {},
   "outputs": [],
   "source": [
    "from agent_framework import AgentRunResponse, ChatResponseUpdate, HostedCodeInterpreterTool\n",
    "\n",
    "code_interpreter_tool = HostedCodeInterpreterTool()\n"
   ]
  },
  {
   "cell_type": "markdown",
   "id": "1b301198",
   "metadata": {},
   "source": [
    "### Loading the Hosted MCP Tool"
   ]
  },
  {
   "cell_type": "code",
   "execution_count": 3,
   "id": "07533f98",
   "metadata": {},
   "outputs": [],
   "source": [
    "from agent_framework import HostedMCPTool\n",
    "\n",
    "ms_learn_mcp_tool = HostedMCPTool(\n",
    "    name = \"Microsoft Learn MCP Tool\",\n",
    "    url = \"https://learn.microsoft.com/api/mcp\"\n",
    ")"
   ]
  },
  {
   "cell_type": "markdown",
   "id": "7a87fa7a",
   "metadata": {},
   "source": [
    "### Creating the Agent with Multiple Tools in Azure AI Agent Service "
   ]
  },
  {
   "cell_type": "code",
   "execution_count": 4,
   "id": "38a9db61",
   "metadata": {},
   "outputs": [],
   "source": [
    "from agent_framework import ChatAgent\n",
    "from agent_framework.azure import AzureAIAgentClient\n",
    "from azure.ai.projects.aio import AIProjectClient\n",
    "from azure.identity.aio import AzureCliCredential\n",
    "\n",
    "# Cell 2: Define async workflow\n",
    "async def create_multi_tool_agent():\n",
    "    # Create async Azure credential\n",
    "    credential = AzureCliCredential()\n",
    "    \n",
    "    # Initialize the Azure AI Agent Client\n",
    "    chat_client = AzureAIAgentClient(async_credential=credential,\n",
    "                                     project_endpoint=project_endpoint,\n",
    "                                     model_deployment_name=model)\n",
    "\n",
    "    try:\n",
    "\n",
    "        # Create the Multi-Tool Agent\n",
    "        agent = chat_client.create_agent(\n",
    "            name=\"multi-tool-agent\",\n",
    "            instructions=\"You are a helpful multi-tool agent.\",\n",
    "            tools=[code_interpreter_tool, ms_learn_mcp_tool]\n",
    "        )\n",
    "\n",
    "        print(\"✅ Agent created successfully!\")\n",
    "        return agent\n",
    "\n",
    "    finally:\n",
    "        # Clean up async clients\n",
    "        await chat_client.close()\n",
    "        await credential.close()\n"
   ]
  },
  {
   "cell_type": "code",
   "execution_count": 5,
   "id": "612692a1",
   "metadata": {},
   "outputs": [
    {
     "name": "stdout",
     "output_type": "stream",
     "text": [
      "✅ Agent created successfully!\n"
     ]
    }
   ],
   "source": [
    "# Cell 3: Run the async function\n",
    "agent = await create_multi_tool_agent()\n"
   ]
  },
  {
   "cell_type": "code",
   "execution_count": null,
   "id": "6ea92391",
   "metadata": {},
   "outputs": [],
   "source": [
    "from agent_framework import ChatMessage\n",
    "\n",
    "async def handle_approvals_with_thread(query: str, agent, thread):\n",
    "    result = await agent.run(query, thread=thread, store=True)\n",
    "    while len(result.user_input_requests) > 0:\n",
    "        new_input = []\n",
    "        for user_input_needed in result.user_input_requests:\n",
    "            new_input.append(\n",
    "                ChatMessage(\n",
    "                    role=\"user\",\n",
    "                    contents=[user_input_needed.create_response(True)],\n",
    "                )\n",
    "            )\n",
    "        result = await agent.run(new_input, thread=thread, store=True)\n",
    "    return result\n"
   ]
  },
  {
   "cell_type": "markdown",
   "id": "94c7d7c1",
   "metadata": {},
   "source": [
    "### Running Different Queries on the Agent"
   ]
  },
  {
   "cell_type": "code",
   "execution_count": 10,
   "id": "95572985",
   "metadata": {},
   "outputs": [
    {
     "name": "stdout",
     "output_type": "stream",
     "text": [
      "\n",
      "🧠 Assistant:\n",
      " Absolutely! Here’s a Python function that calculates the factorial of a number using recursion:\n",
      "\n",
      "```python\n",
      "def factorial(n):\n",
      "    if n == 0 or n == 1:\n",
      "        return 1\n",
      "    return n * factorial(n - 1)\n",
      "```\n",
      "\n",
      "Let me calculate the factorial of 100 using this function.The factorial of 100 is:\n",
      "```\n",
      "93326215443944152681699238856266700490715968264381621468592963895217599993229915608941463976156518286253697920827223758251185210916864000000000000000000000000\n",
      "```\n"
     ]
    }
   ],
   "source": [
    "thread = agent.get_new_thread()\n",
    "query = \"Can you write a Python function to calculate the factorial of a number using recursion and give me the output for number 100\"\n",
    "response = await handle_approvals_with_thread(query, agent, thread)\n",
    "\n",
    "print(\"\\n🧠 Assistant:\\n\", response)\n"
   ]
  },
  {
   "cell_type": "code",
   "execution_count": 11,
   "id": "5705d2c3",
   "metadata": {},
   "outputs": [
    {
     "name": "stdout",
     "output_type": "stream",
     "text": [
      "\n",
      "🧠 Assistant:\n",
      " To create an Azure Storage Account using the Azure CLI (`az cli`), follow these steps:\n",
      "\n",
      "### 1. **Login to Azure**\n",
      "```sh\n",
      "az login\n",
      "```\n",
      "\n",
      "### 2. **Set the Subscription (optional)**\n",
      "If you have more than one subscription:\n",
      "```sh\n",
      "az account set --subscription \"<your-subscription-name-or-id>\"\n",
      "```\n",
      "\n",
      "### 3. **Create a Resource Group (if you don’t already have one)**\n",
      "```sh\n",
      "az group create --name <resource-group-name> --location <location>\n",
      "```\n",
      "Example:\n",
      "```sh\n",
      "az group create --name myResourceGroup --location eastus\n",
      "```\n",
      "\n",
      "### 4. **Create the Storage Account**\n",
      "```sh\n",
      "az storage account create \\\n",
      "  --name <storage-account-name> \\\n",
      "  --resource-group <resource-group-name> \\\n",
      "  --location <location> \\\n",
      "  --sku Standard_LRS\n",
      "```\n",
      "- `<storage-account-name>` must be **globally unique** and 3–24 lowercase letters and numbers.\n",
      "- Common SKUs: `Standard_LRS`, `Standard_GRS`, `Standard_ZRS`, etc.\n",
      "\n",
      "Example:\n",
      "```sh\n",
      "az storage account create \\\n",
      "  --name mystorageacct123 \\\n",
      "  --resource-group myResourceGroup \\\n",
      "  --location eastus \\\n",
      "  --sku Standard_LRS\n",
      "```\n",
      "\n",
      "### 5. **Verify the Storage Account**\n",
      "```sh\n",
      "az storage account show --name <storage-account-name> --resource-group <resource-group-name>\n",
      "```\n",
      "\n",
      "---\n",
      "\n",
      "**Tip:** You can add more parameters depending on your requirements (e.g., kind, access-tier, https-only).\n",
      "\n",
      "#### **References**\n",
      "- [az storage account create](https://learn.microsoft.com/en-us/cli/azure/storage/account#az-storage-account-create)\n",
      "- [Azure CLI Documentation](https://docs.microsoft.com/en-us/cli/azure/)\n",
      "\n",
      "Let me know if you need options for advanced scenarios!\n"
     ]
    }
   ],
   "source": [
    "thread = agent.get_new_thread()\n",
    "query = \"How to create an Azure storage account using az cli?\"\n",
    "response = await handle_approvals_with_thread(query, agent, thread)\n",
    "\n",
    "print(\"\\n🧠 Assistant:\\n\", response)\n"
   ]
  }
 ],
 "metadata": {
  "kernelspec": {
   "display_name": "Python 3",
   "language": "python",
   "name": "python3"
  },
  "language_info": {
   "codemirror_mode": {
    "name": "ipython",
    "version": 3
   },
   "file_extension": ".py",
   "mimetype": "text/x-python",
   "name": "python",
   "nbconvert_exporter": "python",
   "pygments_lexer": "ipython3",
   "version": "3.13.4"
  }
 },
 "nbformat": 4,
 "nbformat_minor": 5
}
