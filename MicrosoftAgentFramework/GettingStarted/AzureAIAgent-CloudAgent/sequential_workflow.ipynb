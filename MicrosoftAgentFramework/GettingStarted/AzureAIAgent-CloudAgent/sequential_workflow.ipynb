{
 "cells": [
  {
   "cell_type": "markdown",
   "id": "39aadf34",
   "metadata": {},
   "source": [
    "### Sequential Workflow with Microsoft Agent Framework and Azure AI Foundry"
   ]
  },
  {
   "cell_type": "code",
   "execution_count": null,
   "id": "06998deb",
   "metadata": {},
   "outputs": [],
   "source": [
    "%pip install agent-framework==1.0.0b251001 python-dotenv azure-ai-projects==1.1.0b4 agent-framework[viz]"
   ]
  },
  {
   "cell_type": "markdown",
   "id": "fd34ddf9",
   "metadata": {},
   "source": [
    "### Setting Up the Environment"
   ]
  },
  {
   "cell_type": "code",
   "execution_count": null,
   "id": "70ee0972",
   "metadata": {},
   "outputs": [],
   "source": [
    "import os\n",
    "from dotenv import load_dotenv\n",
    "from azure.core.credentials import AzureKeyCredential\n",
    "\n",
    "load_dotenv()\n",
    "project_endpoint = os.getenv(\"AI_FOUNDRY_PROJECT_ENDPOINT\")\n",
    "model = os.getenv(\"AI_FOUNDRY_DEPLOYMENT_NAME\")\n",
    "\n",
    "print(\"Project Endpoint: \", project_endpoint)\n",
    "print(\"Model: \", model)"
   ]
  },
  {
   "cell_type": "markdown",
   "id": "bfac7416",
   "metadata": {},
   "source": [
    "### Defining a function to create a ChatAgent"
   ]
  },
  {
   "cell_type": "code",
   "execution_count": null,
   "id": "b2210e94",
   "metadata": {},
   "outputs": [],
   "source": [
    "from agent_framework import ChatAgent\n",
    "from agent_framework.azure import AzureAIAgentClient\n",
    "from azure.ai.projects.aio import AIProjectClient\n",
    "from azure.identity.aio import AzureCliCredential\n",
    "\n",
    "# Cell 2: Define async workflow\n",
    "async def create_agent(agent_name: str,\n",
    "                       agent_instructions: str) -> ChatAgent:\n",
    "    \n",
    "    # Create async Azure credential\n",
    "    credential = AzureCliCredential()\n",
    "    \n",
    "    # Initialize the Azure AI Agent Client\n",
    "    chat_client = AzureAIAgentClient(async_credential=credential,\n",
    "                                     project_endpoint=project_endpoint,\n",
    "                                     model_deployment_name=model)\n",
    "\n",
    "    try:\n",
    "\n",
    "        # Create the Multi-Tool Agent\n",
    "        agent = chat_client.create_agent(\n",
    "            name=agent_name,\n",
    "            instructions=agent_instructions,\n",
    "        )\n",
    "\n",
    "        print(\"{} Agent created successfully!\".format(agent_name))\n",
    "        return agent\n",
    "\n",
    "    finally:\n",
    "        # Clean up async clients\n",
    "        await chat_client.close()\n",
    "        await credential.close()\n"
   ]
  },
  {
   "cell_type": "markdown",
   "id": "29784ddb",
   "metadata": {},
   "source": [
    "### Creating the Researcher Agent"
   ]
  },
  {
   "cell_type": "code",
   "execution_count": null,
   "id": "6afacfd6",
   "metadata": {},
   "outputs": [],
   "source": [
    "researcher_agent = await create_agent(\n",
    "    agent_name=\"Researcher Agent\",\n",
    "    agent_instructions=\"You are a knowledgeable researcher. Your task is to gather information and provide insights on a given topic. \"\n",
    "                       \"You should use reliable sources and present the information in a clear and concise manner.\"\n",
    "    )\n"
   ]
  },
  {
   "cell_type": "markdown",
   "id": "6bb81d0d",
   "metadata": {},
   "source": [
    "### Creating the Writer Agent"
   ]
  },
  {
   "cell_type": "code",
   "execution_count": null,
   "id": "b15c8a52",
   "metadata": {},
   "outputs": [],
   "source": [
    "writer_agent = await create_agent(\n",
    "    agent_name=\"Writer Agent\",\n",
    "    agent_instructions=\"You are a creative writer. Your task is to write an essay on a given topic. \"\n",
    "                       \"You should focus on clarity, coherence, and engaging storytelling.\"\n",
    "    )"
   ]
  },
  {
   "cell_type": "markdown",
   "id": "16c423b5",
   "metadata": {},
   "source": [
    "### Creating the First Executor to run the Researcher Agent"
   ]
  },
  {
   "cell_type": "code",
   "execution_count": null,
   "id": "60c6c97e",
   "metadata": {},
   "outputs": [],
   "source": [
    "from agent_framework import WorkflowBuilder, WorkflowContext, WorkflowOutputEvent, executor\n",
    "from typing import Any\n",
    "from agent_framework import ChatResponse\n",
    "\n",
    "@executor(id = \"run_researcher_agent\")\n",
    "async def run_researcher_agent(query: str,\n",
    "                               ctx: WorkflowContext[str]) -> None:\n",
    "    response = await researcher_agent.run(query)\n",
    "\n",
    "    await ctx.send_message(str(response))"
   ]
  },
  {
   "cell_type": "markdown",
   "id": "1e8d174a",
   "metadata": {},
   "source": [
    "### Creating the Second Executor to run the Writer Agent"
   ]
  },
  {
   "cell_type": "code",
   "execution_count": null,
   "id": "6e3134e2",
   "metadata": {},
   "outputs": [],
   "source": [
    "@executor(id = \"run_writer_agent\")\n",
    "async def run_writer_agent(research_data: str,\n",
    "                          ctx: WorkflowContext[str]) -> None:\n",
    "    response = await writer_agent.run(research_data)\n",
    "\n",
    "    await ctx.yield_output(str(response))"
   ]
  },
  {
   "cell_type": "markdown",
   "id": "b2104d05",
   "metadata": {},
   "source": [
    "### Creating the Sequential Workflow"
   ]
  },
  {
   "cell_type": "code",
   "execution_count": null,
   "id": "dfe4cde5",
   "metadata": {},
   "outputs": [],
   "source": [
    "from agent_framework import WorkflowBuilder, WorkflowViz\n",
    "\n",
    "workflow = (\n",
    "    WorkflowBuilder()\n",
    "    .add_edge(run_researcher_agent, run_writer_agent)\n",
    "    .set_start_executor(run_researcher_agent)\n",
    "    .build()\n",
    ")\n",
    "\n",
    "viz = WorkflowViz(workflow)"
   ]
  },
  {
   "cell_type": "markdown",
   "id": "5b6b307f",
   "metadata": {},
   "source": [
    "### Generating Mermaid Diagram for the Workflow"
   ]
  },
  {
   "cell_type": "code",
   "execution_count": null,
   "id": "c89412cb",
   "metadata": {},
   "outputs": [],
   "source": [
    "mermaid_content = viz.to_mermaid()\n",
    "\n",
    "# printing mermaid content as markdown\n",
    "from IPython.display import Markdown, display\n",
    "display(Markdown(f\"```mermaid\\n{mermaid_content}\\n```\"))"
   ]
  },
  {
   "cell_type": "markdown",
   "id": "c930d888",
   "metadata": {},
   "source": [
    "### Running the Workflow and Streaming Events"
   ]
  },
  {
   "cell_type": "code",
   "execution_count": null,
   "id": "e3eec0b8",
   "metadata": {},
   "outputs": [],
   "source": [
    "# Run the workflow and stream events in notebook\n",
    "async def main():\n",
    "    async for event in workflow.run_stream(\"write an essay about the impact of AI on society\"):\n",
    "        print(f\"Event: {event}\")\n",
    "        if isinstance(event, WorkflowOutputEvent):\n",
    "            print(f\"Workflow completed with result: {event.data}\")\n",
    "\n",
    "await main()\n"
   ]
  }
 ],
 "metadata": {
  "kernelspec": {
   "display_name": "Python 3",
   "language": "python",
   "name": "python3"
  },
  "language_info": {
   "codemirror_mode": {
    "name": "ipython",
    "version": 3
   },
   "file_extension": ".py",
   "mimetype": "text/x-python",
   "name": "python",
   "nbconvert_exporter": "python",
   "pygments_lexer": "ipython3",
   "version": "3.13.4"
  }
 },
 "nbformat": 4,
 "nbformat_minor": 5
}
