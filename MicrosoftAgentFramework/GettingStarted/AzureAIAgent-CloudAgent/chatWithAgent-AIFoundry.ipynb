{
 "cells": [
  {
   "cell_type": "markdown",
   "id": "e2298530",
   "metadata": {},
   "source": [
    "## Getting Started with MAF - Creating and Chatting with our Agent (At AI Foundry Project Level)"
   ]
  },
  {
   "cell_type": "code",
   "execution_count": null,
   "id": "6c8e2b78",
   "metadata": {},
   "outputs": [],
   "source": [
    "%pip install agent-framework==1.0.0b251001 python-dotenv azure-ai-projects==1.1.0b4"
   ]
  },
  {
   "cell_type": "markdown",
   "id": "25b29587",
   "metadata": {},
   "source": [
    "### Setting up the environment"
   ]
  },
  {
   "cell_type": "code",
   "execution_count": null,
   "id": "c4057cd6",
   "metadata": {},
   "outputs": [],
   "source": [
    "import os\n",
    "from dotenv import load_dotenv\n",
    "from azure.core.credentials import AzureKeyCredential\n",
    "\n",
    "load_dotenv()\n",
    "project_endpoint = os.getenv(\"AI_FOUNDRY_PROJECT_ENDPOINT\")\n",
    "model = os.getenv(\"AI_FOUNDRY_DEPLOYMENT_NAME\")\n",
    "\n",
    "print(\"Project Endpoint: \", project_endpoint)\n",
    "print(\"Model: \", model)"
   ]
  },
  {
   "cell_type": "markdown",
   "id": "4aa21dac",
   "metadata": {},
   "source": [
    "### Creating the Azure AI Foundry Client and Agent"
   ]
  },
  {
   "cell_type": "code",
   "execution_count": null,
   "id": "23a97314",
   "metadata": {},
   "outputs": [],
   "source": [
    "from azure.ai.projects.aio import AIProjectClient\n",
    "from azure.identity import DefaultAzureCredential\n",
    "from agent_framework_azure_ai import AzureAIAgentClient\n",
    "\n",
    "# creating an AzureAIProjectClient\n",
    "project_client = AIProjectClient(\n",
    "    credential=DefaultAzureCredential(),\n",
    "    endpoint=project_endpoint\n",
    ")\n",
    "\n",
    "# Creating an AzureAIAgentClient\n",
    "agent_client = AzureAIAgentClient(\n",
    "    project_client=project_client,\n",
    "    model_deployment_name=model\n",
    ")\n",
    "\n",
    "agent = agent_client.create_agent(\n",
    "    name = \"BatmanAgent\",\n",
    "    instructions = \"You are Batman, the dark knight of Gotham City.\"\n",
    ")"
   ]
  },
  {
   "cell_type": "markdown",
   "id": "a1b0798b",
   "metadata": {},
   "source": [
    "### Chatting with the Agent - Non Streaming"
   ]
  },
  {
   "cell_type": "code",
   "execution_count": null,
   "id": "e108c550",
   "metadata": {},
   "outputs": [],
   "source": [
    "query = \"Who is the Joker?\"\n",
    "response = await agent.run(query)\n",
    "print(\"Agent Response:\", response)\n"
   ]
  },
  {
   "cell_type": "markdown",
   "id": "c4ee48f4",
   "metadata": {},
   "source": [
    "### Chatting with the Agent - Streaming"
   ]
  },
  {
   "cell_type": "code",
   "execution_count": null,
   "id": "b3038bcc",
   "metadata": {},
   "outputs": [],
   "source": [
    "# Running the agent with streaming responses\n",
    "async def streaming_chat():\n",
    "    async for update in agent.run_stream(\"Tell me something interesting about Gotham City in 10 points\"):\n",
    "        if update.text:\n",
    "            print(update.text, end=\"\", flush=True)\n",
    "    print()  # New line after streaming is complete\n",
    "\n",
    "await streaming_chat()"
   ]
  },
  {
   "cell_type": "markdown",
   "id": "d6c34160",
   "metadata": {},
   "source": [
    "### Giving our Agent an Image"
   ]
  },
  {
   "cell_type": "markdown",
   "id": "35ec6759",
   "metadata": {},
   "source": [
    "![image.png](./images/joker_interrogation_scene.png)"
   ]
  },
  {
   "cell_type": "code",
   "execution_count": null,
   "id": "269f3641",
   "metadata": {},
   "outputs": [],
   "source": [
    "from agent_framework import ChatMessage, TextContent, DataContent, Role\n",
    "\n",
    "# Load image from local file\n",
    "with open(\"./images/joker_interrogation_scene.png\", \"rb\") as image_file:\n",
    "    image_bytes = image_file.read()\n",
    "\n",
    "# Create a message with text and image data\n",
    "message = ChatMessage(\n",
    "    role = Role.USER,\n",
    "    contents = [\n",
    "        TextContent(text = \"Tell me about the incident in this image.\"),\n",
    "        DataContent(\n",
    "            data = image_bytes,\n",
    "            media_type = \"image/png\"\n",
    "        )\n",
    "    ]\n",
    ")\n",
    "\n",
    "# Creating an async function for the entire image analysis run\n",
    "async def analyze_image():\n",
    "    response = await agent.run(message)\n",
    "    print(f\"Agent: {response.text}\")\n",
    "\n",
    "# invoke the async function\n",
    "await analyze_image()"
   ]
  }
 ],
 "metadata": {
  "kernelspec": {
   "display_name": "Python 3",
   "language": "python",
   "name": "python3"
  },
  "language_info": {
   "codemirror_mode": {
    "name": "ipython",
    "version": 3
   },
   "file_extension": ".py",
   "mimetype": "text/x-python",
   "name": "python",
   "nbconvert_exporter": "python",
   "pygments_lexer": "ipython3",
   "version": "3.13.4"
  }
 },
 "nbformat": 4,
 "nbformat_minor": 5
}
