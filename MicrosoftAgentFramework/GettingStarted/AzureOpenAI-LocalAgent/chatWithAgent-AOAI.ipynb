{
 "cells": [
  {
   "cell_type": "markdown",
   "id": "cb65c5d5",
   "metadata": {},
   "source": [
    "## Getting Started with MAF - Creating and Chatting with our Agent (At Azure OpenAI Model Level)"
   ]
  },
  {
   "cell_type": "code",
   "execution_count": null,
   "id": "d682a7d1",
   "metadata": {},
   "outputs": [],
   "source": [
    "%pip install agent-framework==1.0.0b251001 python-dotenv"
   ]
  },
  {
   "cell_type": "markdown",
   "id": "1023d5b6",
   "metadata": {},
   "source": [
    "### Setting up the environment"
   ]
  },
  {
   "cell_type": "code",
   "execution_count": null,
   "id": "557cbf69",
   "metadata": {},
   "outputs": [],
   "source": [
    "from dotenv import load_dotenv\n",
    "import os\n",
    "\n",
    "load_dotenv()\n",
    "api_key = os.getenv(\"AZURE_OPENAI_API_KEY\")\n",
    "endpoint = os.getenv(\"AZURE_OPENAI_ENDPOINT\")\n",
    "deployment_name = os.getenv(\"AZURE_OPENAI_DEPLOYMENT_NAME\")\n"
   ]
  },
  {
   "cell_type": "markdown",
   "id": "462b1b4e",
   "metadata": {},
   "source": [
    "### Creating our Client and Agent"
   ]
  },
  {
   "cell_type": "code",
   "execution_count": null,
   "id": "8a24414e",
   "metadata": {},
   "outputs": [],
   "source": [
    "import asyncio\n",
    "from agent_framework.azure import AzureOpenAIChatClient\n",
    "\n",
    "# Creating the AzureOpenAIChatClient\n",
    "client = AzureOpenAIChatClient(\n",
    "    api_key = api_key,\n",
    "    endpoint = endpoint,\n",
    "    deployment_name = deployment_name\n",
    ")\n",
    "\n",
    "# Creating our agent\n",
    "agent = client.create_agent(\n",
    "    instructions = \"You are Batman, the Dark Knight of Gotham City.\",\n",
    "    name = \"Batman-Agent\"\n",
    ")\n"
   ]
  },
  {
   "cell_type": "markdown",
   "id": "cbadf9a0",
   "metadata": {},
   "source": [
    "### Running a Chat Loop with the Agent"
   ]
  },
  {
   "cell_type": "code",
   "execution_count": null,
   "id": "a743dcf2",
   "metadata": {},
   "outputs": [],
   "source": [
    "# Running a chat loop with the agent\n",
    "async def chat_with_agent():\n",
    "    print(\"Chatting with the agent. Type 'exit' to quit.\")\n",
    "    while True:\n",
    "        user_input = input(\"You: \")\n",
    "        if user_input.lower() == 'exit':\n",
    "            break\n",
    "        response = await agent.run(user_input)\n",
    "        print(f\"Agent: {response.text}\")\n",
    "\n",
    "await chat_with_agent()"
   ]
  },
  {
   "cell_type": "markdown",
   "id": "15a331e1",
   "metadata": {},
   "source": [
    "### Streaming Responses from the Agent"
   ]
  },
  {
   "cell_type": "code",
   "execution_count": null,
   "id": "273c8df5",
   "metadata": {},
   "outputs": [],
   "source": [
    "# Running the agent with streaming responses\n",
    "async def streaming_chat():\n",
    "    async for update in agent.run_stream(\"Tell me something interesting about Gotham City in 10 points\"):\n",
    "        if update.text:\n",
    "            print(update.text, end=\"\", flush=True)\n",
    "    print()  # New line after streaming is complete\n",
    "\n",
    "await streaming_chat()"
   ]
  },
  {
   "cell_type": "markdown",
   "id": "3b04eb57",
   "metadata": {},
   "source": [
    "### Giving our Agent an Image to Analyze"
   ]
  },
  {
   "cell_type": "markdown",
   "id": "00937dd7",
   "metadata": {},
   "source": [
    "![image.png](./images/joker_interrogation_scene.png)"
   ]
  },
  {
   "cell_type": "code",
   "execution_count": null,
   "id": "c0661da5",
   "metadata": {},
   "outputs": [],
   "source": [
    "from agent_framework import ChatMessage, TextContent, DataContent, Role\n",
    "\n",
    "# Load image from local file\n",
    "with open(\"./images/joker_interrogation_scene.png\", \"rb\") as image_file:\n",
    "    image_bytes = image_file.read()\n",
    "\n",
    "# Create a message with text and image data\n",
    "message = ChatMessage(\n",
    "    role = Role.USER,\n",
    "    contents = [\n",
    "        TextContent(text = \"Tell me about the incident in this image.\"),\n",
    "        DataContent(\n",
    "            data = image_bytes,\n",
    "            media_type = \"image/png\"\n",
    "        )\n",
    "    ]\n",
    ")\n",
    "\n",
    "# Creating an async function for the entire image analysis run\n",
    "async def analyze_image():\n",
    "    response = await agent.run(message)\n",
    "    print(f\"Agent: {response.text}\")\n",
    "\n",
    "# invoke the async function\n",
    "await analyze_image()"
   ]
  }
 ],
 "metadata": {
  "kernelspec": {
   "display_name": "Python 3",
   "language": "python",
   "name": "python3"
  },
  "language_info": {
   "codemirror_mode": {
    "name": "ipython",
    "version": 3
   },
   "file_extension": ".py",
   "mimetype": "text/x-python",
   "name": "python",
   "nbconvert_exporter": "python",
   "pygments_lexer": "ipython3",
   "version": "3.13.4"
  }
 },
 "nbformat": 4,
 "nbformat_minor": 5
}
