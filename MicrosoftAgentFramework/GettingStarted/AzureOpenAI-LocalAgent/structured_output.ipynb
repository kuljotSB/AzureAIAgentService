{
 "cells": [
  {
   "cell_type": "markdown",
   "id": "da95b067",
   "metadata": {},
   "source": [
    "## Structured Output Streaming with Microsoft Agent Framework"
   ]
  },
  {
   "cell_type": "code",
   "execution_count": null,
   "id": "3b4ac952",
   "metadata": {},
   "outputs": [],
   "source": [
    "%pip install agent-framework==1.0.0b251001 python-dotenv azure-ai-projects==1.1.0b4"
   ]
  },
  {
   "cell_type": "markdown",
   "id": "a491b4cb",
   "metadata": {},
   "source": [
    "### Setting Up the Environment"
   ]
  },
  {
   "cell_type": "code",
   "execution_count": null,
   "id": "e7989a50",
   "metadata": {},
   "outputs": [],
   "source": [
    "from dotenv import load_dotenv\n",
    "import os\n",
    "\n",
    "load_dotenv()\n",
    "api_key = os.getenv(\"AZURE_OPENAI_API_KEY\")\n",
    "endpoint = os.getenv(\"AZURE_OPENAI_ENDPOINT\")\n",
    "deployment_name = os.getenv(\"AZURE_OPENAI_DEPLOYMENT_NAME\")\n"
   ]
  },
  {
   "cell_type": "markdown",
   "id": "02c3d28e",
   "metadata": {},
   "source": [
    "### Creating the Agent with AzureOpenAIChatClient"
   ]
  },
  {
   "cell_type": "code",
   "execution_count": null,
   "id": "bf9b4df8",
   "metadata": {},
   "outputs": [],
   "source": [
    "import asyncio\n",
    "from agent_framework.azure import AzureOpenAIChatClient\n",
    "\n",
    "# Creating the AzureOpenAIChatClient\n",
    "client = AzureOpenAIChatClient(\n",
    "    api_key = api_key,\n",
    "    endpoint = endpoint,\n",
    "    deployment_name = deployment_name\n",
    ")\n",
    "\n",
    "# Creating our agent\n",
    "agent = client.create_agent(\n",
    "    instructions = \"You are an HR assistant that extracts structured information about a job candidate from text.\",\n",
    "    name = \"JobCandidateExtractor\"\n",
    ")\n"
   ]
  },
  {
   "cell_type": "markdown",
   "id": "7ea3fd37",
   "metadata": {},
   "source": [
    "### Creating a Structured Output Schema using Pydantic"
   ]
  },
  {
   "cell_type": "code",
   "execution_count": null,
   "id": "2422509b",
   "metadata": {},
   "outputs": [],
   "source": [
    "from pydantic import BaseModel\n",
    "\n",
    "class CandidateProfile(BaseModel):\n",
    "    \"\"\"Structured job candidate profile\"\"\"\n",
    "    name: str | None = None\n",
    "    experience_years: int | None = None\n",
    "    skills: list[str] | None = None\n",
    "    current_role: str | None = None"
   ]
  },
  {
   "cell_type": "markdown",
   "id": "aebecc47",
   "metadata": {},
   "source": [
    "### Run the Agent with Structured Output Streaming"
   ]
  },
  {
   "cell_type": "code",
   "execution_count": null,
   "id": "51f67e7a",
   "metadata": {},
   "outputs": [],
   "source": [
    "text_input = \"\"\"\n",
    "    Hi, I’m Alice Johnson. I've been a software engineer for 6 years,\n",
    "    mainly working with Python, Azure, and React. Currently a senior developer at Contoso Ltd.\n",
    "    \"\"\"\n",
    "\n",
    "response = await agent.run(text_input, response_format=CandidateProfile)\n",
    "\n",
    "print(response)"
   ]
  },
  {
   "cell_type": "code",
   "execution_count": null,
   "id": "26c9bec7",
   "metadata": {},
   "outputs": [],
   "source": [
    "if response.value:\n",
    "    print(\"name:\", response.value.name)\n",
    "    print(\"experience_years:\", response.value.experience_years)\n",
    "    print(\"skills:\", response.value.skills)\n",
    "    print(\"current_role:\", response.value.current_role)\n",
    "else:\n",
    "    print(\"Failed to parse response\")"
   ]
  }
 ],
 "metadata": {
  "kernelspec": {
   "display_name": "Python 3",
   "language": "python",
   "name": "python3"
  },
  "language_info": {
   "codemirror_mode": {
    "name": "ipython",
    "version": 3
   },
   "file_extension": ".py",
   "mimetype": "text/x-python",
   "name": "python",
   "nbconvert_exporter": "python",
   "pygments_lexer": "ipython3",
   "version": "3.13.4"
  }
 },
 "nbformat": 4,
 "nbformat_minor": 5
}
