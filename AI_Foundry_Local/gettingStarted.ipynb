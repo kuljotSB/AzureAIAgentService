{
 "cells": [
  {
   "cell_type": "markdown",
   "id": "88c36ba1",
   "metadata": {},
   "source": [
    "## Running LLMs Locally with Azure AI Foundry Local"
   ]
  },
  {
   "cell_type": "code",
   "execution_count": null,
   "id": "b2d9bdf3",
   "metadata": {},
   "outputs": [],
   "source": [
    "%pip install openai"
   ]
  },
  {
   "cell_type": "code",
   "execution_count": null,
   "id": "d79949ad",
   "metadata": {},
   "outputs": [],
   "source": [
    "%pip install foundry-local-sdk==0.3.1"
   ]
  },
  {
   "cell_type": "markdown",
   "id": "76c08fe1",
   "metadata": {},
   "source": [
    "### Use OpenAI SDK with Foundry Local"
   ]
  },
  {
   "cell_type": "code",
   "execution_count": null,
   "id": "08beb264",
   "metadata": {},
   "outputs": [],
   "source": [
    "import openai\n",
    "from foundry_local import FoundryLocalManager\n",
    "\n",
    "# By using an alias, the most suitable model will be downloaded \n",
    "# to your end-user's device. \n",
    "alias = \"phi-3.5-mini\"\n",
    "\n",
    "# Create a FoundryLocalManager instance. This will start the Foundry\n",
    "# Local service if it is not already running and load the specified model.\n",
    "manager = FoundryLocalManager(alias)\n",
    "\n",
    "# The remaining code uses the OpenAI Python SDK to interact with the local model.\n",
    "# Configure the client to use the local Foundry service\n",
    "client = openai.OpenAI(\n",
    "    base_url=manager.endpoint,\n",
    "    api_key=manager.api_key  # API key is not required for local usage\n",
    ")\n",
    "\n",
    "# Set the model to use and generate a response\n",
    "response = client.chat.completions.create(\n",
    "    model=manager.get_model_info(alias).id,\n",
    "    messages=[{\"role\": \"user\", \"content\": \"What is the golden ratio?\"}]\n",
    ")\n",
    "print(response.choices[0].message.content)"
   ]
  },
  {
   "cell_type": "markdown",
   "id": "17c16850",
   "metadata": {},
   "source": [
    "### Streaming Response "
   ]
  },
  {
   "cell_type": "code",
   "execution_count": null,
   "id": "8d8f5fe6",
   "metadata": {},
   "outputs": [],
   "source": [
    "import openai\n",
    "from foundry_local import FoundryLocalManager\n",
    "\n",
    "# By using an alias, the most suitable model will be downloaded \n",
    "# to your end-user's device.\n",
    "alias = \"phi-3.5-mini\"\n",
    "\n",
    "# Create a FoundryLocalManager instance. This will start the Foundry \n",
    "# Local service if it is not already running and load the specified model.\n",
    "manager = FoundryLocalManager(alias)\n",
    "\n",
    "# The remaining code us es the OpenAI Python SDK to interact with the local model.\n",
    "\n",
    "# Configure the client to use the local Foundry service\n",
    "client = openai.OpenAI(\n",
    "    base_url=manager.endpoint,\n",
    "    api_key=manager.api_key  # API key is not required for local usage\n",
    ")\n",
    "\n",
    "# Set the model to use and generate a streaming response\n",
    "stream = client.chat.completions.create(\n",
    "    model=manager.get_model_info(alias).id,\n",
    "    messages=[{\"role\": \"user\", \"content\": \"What is the golden ratio?\"}],\n",
    "    stream=True\n",
    ")\n",
    "\n",
    "# Print the streaming response\n",
    "for chunk in stream:\n",
    "    if chunk.choices[0].delta.content is not None:\n",
    "        print(chunk.choices[0].delta.content, end=\"\", flush=True)"
   ]
  },
  {
   "cell_type": "markdown",
   "id": "fb688516",
   "metadata": {},
   "source": [
    "### Using Requests Python Library with Foundry Local"
   ]
  },
  {
   "cell_type": "code",
   "execution_count": null,
   "id": "c464b022",
   "metadata": {},
   "outputs": [],
   "source": [
    "# Install with: pip install requests\n",
    "import requests\n",
    "import json\n",
    "from foundry_local import FoundryLocalManager\n",
    "\n",
    "# By using an alias, the most suitable model will be downloaded \n",
    "# to your end-user's device. \n",
    "alias = \"phi-3.5-mini\"\n",
    "\n",
    "# Create a FoundryLocalManager instance. This will start the Foundry\n",
    "# Local service if it is not already running and load the specified model.\n",
    "manager = FoundryLocalManager(alias)\n",
    "\n",
    "url = manager.endpoint + \"/chat/completions\"\n",
    "\n",
    "payload = {\n",
    "    \"model\": manager.get_model_info(alias).id,\n",
    "    \"messages\": [\n",
    "        {\"role\": \"user\", \"content\": \"What is the golden ratio?\"}\n",
    "    ]\n",
    "}\n",
    "\n",
    "headers = {\n",
    "    \"Content-Type\": \"application/json\"\n",
    "}\n",
    "\n",
    "response = requests.post(url, headers=headers, data=json.dumps(payload))\n",
    "print(response.json()[\"choices\"][0][\"message\"][\"content\"])"
   ]
  }
 ],
 "metadata": {
  "kernelspec": {
   "display_name": "Python 3",
   "language": "python",
   "name": "python3"
  },
  "language_info": {
   "codemirror_mode": {
    "name": "ipython",
    "version": 3
   },
   "file_extension": ".py",
   "mimetype": "text/x-python",
   "name": "python",
   "nbconvert_exporter": "python",
   "pygments_lexer": "ipython3",
   "version": "3.13.4"
  }
 },
 "nbformat": 4,
 "nbformat_minor": 5
}
