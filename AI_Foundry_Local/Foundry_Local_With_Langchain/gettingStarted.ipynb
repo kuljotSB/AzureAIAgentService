{
 "cells": [
  {
   "cell_type": "markdown",
   "id": "3891db3b",
   "metadata": {},
   "source": [
    "## Langchain and AI Foundry Local - Getting Started"
   ]
  },
  {
   "cell_type": "code",
   "execution_count": null,
   "id": "5e6a3ff3",
   "metadata": {},
   "outputs": [],
   "source": [
    "%pip install langchain[openai] "
   ]
  },
  {
   "cell_type": "code",
   "execution_count": null,
   "id": "d4dd10ca",
   "metadata": {},
   "outputs": [],
   "source": [
    "%pip install foundry-local-sdk==0.3.1"
   ]
  },
  {
   "cell_type": "code",
   "execution_count": null,
   "id": "76831285",
   "metadata": {},
   "outputs": [],
   "source": [
    "import os\n",
    "from langchain_openai import ChatOpenAI\n",
    "from langchain_core.prompts import ChatPromptTemplate\n",
    "from foundry_local import FoundryLocalManager\n",
    "\n",
    "alias = \"phi-3.5-mini\"\n",
    "\n",
    "# Create a FoundryLocalManager instance. This will start the Foundry \n",
    "# Local service if it is not already running and load the specified model.\n",
    "manager = FoundryLocalManager(alias)\n",
    "\n",
    "# Configure ChatOpenAI to use your locally-running model\n",
    "llm = ChatOpenAI(\n",
    "    model=manager.get_model_info(alias).id,\n",
    "    base_url=manager.endpoint,\n",
    "    api_key=manager.api_key,\n",
    "    temperature=0.6,\n",
    "    streaming=False\n",
    ")\n",
    "\n",
    "# Create a translation prompt template\n",
    "prompt = ChatPromptTemplate.from_messages([\n",
    "    (\n",
    "        \"system\",\n",
    "        \"You are a helpful assistant that translates {input_language} to {output_language}.\"\n",
    "    ),\n",
    "    (\"human\", \"{input}\")\n",
    "])\n",
    "\n",
    "# Build a simple chain by connecting the prompt to the language model\n",
    "chain = prompt | llm\n",
    "\n",
    "input = \"I love to code.\"\n",
    "print(f\"Translating '{input}' to French...\")\n",
    "\n",
    "# Run the chain with your inputs\n",
    "ai_msg = chain.invoke({\n",
    "    \"input_language\": \"English\",\n",
    "    \"output_language\": \"French\",\n",
    "    \"input\": input\n",
    "})\n",
    "\n",
    "# print the result content\n",
    "print(f\"Response: {ai_msg.content}\")"
   ]
  }
 ],
 "metadata": {
  "language_info": {
   "name": "python"
  }
 },
 "nbformat": 4,
 "nbformat_minor": 5
}
