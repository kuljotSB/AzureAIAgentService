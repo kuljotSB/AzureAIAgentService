{
 "cells": [
  {
   "cell_type": "markdown",
   "id": "7b218662",
   "metadata": {},
   "source": [
    "## Creating a Basic Agent with Foundry Local and Langchain"
   ]
  },
  {
   "cell_type": "code",
   "execution_count": null,
   "id": "93e7f9db",
   "metadata": {},
   "outputs": [],
   "source": [
    "%pip install langchain[openai]==0.3.25"
   ]
  },
  {
   "cell_type": "code",
   "execution_count": null,
   "id": "8deedc06",
   "metadata": {},
   "outputs": [],
   "source": [
    "%pip install langgraph==0.4.8"
   ]
  },
  {
   "cell_type": "code",
   "execution_count": null,
   "id": "1d994860",
   "metadata": {},
   "outputs": [],
   "source": [
    "%pip install foundry-local-sdk==0.3.1"
   ]
  },
  {
   "cell_type": "code",
   "execution_count": null,
   "id": "25a77812",
   "metadata": {},
   "outputs": [],
   "source": [
    "import os\n",
    "from langchain_openai import ChatOpenAI\n",
    "from langchain_core.prompts import ChatPromptTemplate\n",
    "from foundry_local import FoundryLocalManager\n",
    "from langchain_core.messages import HumanMessage, SystemMessage\n",
    "from langgraph.checkpoint.memory import MemorySaver\n",
    "from langgraph.prebuilt import create_react_agent\n",
    "from foundry_local import FoundryLocalManager"
   ]
  },
  {
   "cell_type": "code",
   "execution_count": null,
   "id": "5d76bd2b",
   "metadata": {},
   "outputs": [],
   "source": [
    "# creating the agent\n",
    "memory = MemorySaver()\n",
    "\n",
    "alias = \"phi-3.5-mini\"\n",
    "\n",
    "# Create a FoundryLocalManager instance. This will start the Foundry \n",
    "# Local service if it is not already running and load the specified model.\n",
    "manager = FoundryLocalManager(alias)\n",
    "\n",
    "# Configure ChatOpenAI to use your locally-running model\n",
    "model = ChatOpenAI(\n",
    "    model=manager.get_model_info(alias).id,\n",
    "    base_url=manager.endpoint,\n",
    "    api_key=manager.api_key,\n",
    "    temperature=0.6,\n",
    "    streaming=False\n",
    ")\n",
    "\n",
    "tools = []  # No tools are specified in this example\n",
    "\n",
    "agent_executor = create_react_agent(model, tools=[], checkpointer=memory)"
   ]
  },
  {
   "cell_type": "code",
   "execution_count": null,
   "id": "a09bdbcf",
   "metadata": {},
   "outputs": [],
   "source": [
    "# Use the agent\n",
    "config = {\"configurable\": {\"thread_id\": \"abc123\"}}\n",
    "for step in agent_executor.stream(\n",
    "    {\"messages\": [\n",
    "        HumanMessage(content=\"hi im Kuljot!\")\n",
    "        \n",
    "        ]},\n",
    "    config,\n",
    "    stream_mode=\"values\",\n",
    "):\n",
    "    step[\"messages\"][-1].pretty_print()"
   ]
  }
 ],
 "metadata": {
  "kernelspec": {
   "display_name": "Python 3",
   "language": "python",
   "name": "python3"
  },
  "language_info": {
   "codemirror_mode": {
    "name": "ipython",
    "version": 3
   },
   "file_extension": ".py",
   "mimetype": "text/x-python",
   "name": "python",
   "nbconvert_exporter": "python",
   "pygments_lexer": "ipython3",
   "version": "3.13.4"
  }
 },
 "nbformat": 4,
 "nbformat_minor": 5
}
